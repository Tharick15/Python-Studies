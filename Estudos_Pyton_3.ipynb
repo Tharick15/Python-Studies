{
  "nbformat": 4,
  "nbformat_minor": 0,
  "metadata": {
    "kernelspec": {
      "display_name": "Python 3",
      "language": "python",
      "name": "python3"
    },
    "language_info": {
      "codemirror_mode": {
        "name": "ipython",
        "version": 3
      },
      "file_extension": ".py",
      "mimetype": "text/x-python",
      "name": "python",
      "nbconvert_exporter": "python",
      "pygments_lexer": "ipython3",
      "version": "3.7.3"
    },
    "colab": {
      "name": "Estudos_Pyton_3.ipynb",
      "provenance": [],
      "collapsed_sections": [],
      "include_colab_link": true
    }
  },
  "cells": [
    {
      "cell_type": "markdown",
      "metadata": {
        "id": "view-in-github",
        "colab_type": "text"
      },
      "source": [
        "<a href=\"https://colab.research.google.com/github/Tharick15/Python-Studies/blob/main/Estudos_Pyton_3.ipynb\" target=\"_parent\"><img src=\"https://colab.research.google.com/assets/colab-badge.svg\" alt=\"Open In Colab\"/></a>"
      ]
    },
    {
      "cell_type": "markdown",
      "metadata": {
        "id": "9cKOL6tBFd_R"
      },
      "source": [
        "# Estudos Pyton 3\n"
      ]
    },
    {
      "cell_type": "markdown",
      "metadata": {
        "id": "hX2F78TbFd_T"
      },
      "source": [
        "1) Solicite ao usuário que informe a quantidade de linhas (n) e colunas (m) e crie um ndarray nxm com valores aleatórios."
      ]
    },
    {
      "cell_type": "code",
      "metadata": {
        "id": "7HOBVuSim_PJ",
        "colab": {
          "base_uri": "https://localhost:8080/"
        },
        "outputId": "c1f609b3-1336-44ab-b7f4-b269003c551c"
      },
      "source": [
        "from numpy.core.fromnumeric import size\n",
        "import numpy as np\n",
        "n = int(input(\"Informe a quantidade de linhas: \"))\n",
        "m = int(input(\"Informe a quantidade de colunas: \"))\n",
        "array = np.random.random(size=(n,m))\n",
        "array\n"
      ],
      "execution_count": null,
      "outputs": [
        {
          "name": "stdout",
          "output_type": "stream",
          "text": [
            "Informe a quantidade de linhas: 3\n",
            "Informe a quantidade de colunas: 2\n"
          ]
        },
        {
          "output_type": "execute_result",
          "data": {
            "text/plain": [
              "array([[0.53262835, 0.41895391],\n",
              "       [0.59633027, 0.3153888 ],\n",
              "       [0.42181047, 0.78770481]])"
            ]
          },
          "metadata": {},
          "execution_count": 27
        }
      ]
    },
    {
      "cell_type": "markdown",
      "metadata": {
        "id": "8PRj7bRfcaXu"
      },
      "source": [
        "2) Retorne a média dos valores de cada uma das n linhas"
      ]
    },
    {
      "cell_type": "code",
      "metadata": {
        "id": "EwAeRvFScap6",
        "colab": {
          "base_uri": "https://localhost:8080/"
        },
        "outputId": "b62db788-3ff4-4ad2-bfdf-f77057576218"
      },
      "source": [
        "linhas , colunas = array.shape\n",
        "media = np.mean(array,axis = 1)\n",
        "for i in range(linhas):\n",
        "  print(f\"A média da linha {i+1} é {media[i]}\")"
      ],
      "execution_count": null,
      "outputs": [
        {
          "output_type": "stream",
          "name": "stdout",
          "text": [
            "A média da linha 1 é 0.4757911291656559\n",
            "A média da linha 2 é 0.45585953629396886\n",
            "A média da linha 3 é 0.6047576428382324\n"
          ]
        }
      ]
    },
    {
      "cell_type": "markdown",
      "metadata": {
        "id": "VEqNDxEIca9N"
      },
      "source": [
        "3) Retorne a mediana dos valores das m colunas"
      ]
    },
    {
      "cell_type": "code",
      "metadata": {
        "id": "u8d1uuMncbK6",
        "colab": {
          "base_uri": "https://localhost:8080/"
        },
        "outputId": "89ee1dfa-7754-44ab-cf68-ac773fb40cd3"
      },
      "source": [
        "linhas , colunas = array.shape\n",
        "mediana = np.median(array,axis = 0)\n",
        "for i in range(colunas):\n",
        "  print(f\"A mediana da coluna {i+1} é {mediana[i]}\")"
      ],
      "execution_count": null,
      "outputs": [
        {
          "output_type": "stream",
          "name": "stdout",
          "text": [
            "A mediana da coluna 1 é 0.5326283464875325\n",
            "A mediana da coluna 2 é 0.4189539118437793\n"
          ]
        }
      ]
    },
    {
      "cell_type": "markdown",
      "metadata": {
        "id": "KeAs6hMwcb8c"
      },
      "source": [
        "4)  Dados os seguintes arrays x e y, calcula a correlação entre eles."
      ]
    },
    {
      "cell_type": "code",
      "metadata": {
        "id": "Xh9ATAtu8r4e"
      },
      "source": [
        "import numpy as np\n",
        "x = np.array([0, 1, 3, 8, -3])\n",
        "y = np.array([5, 4, 2, 1, 7])"
      ],
      "execution_count": null,
      "outputs": []
    },
    {
      "cell_type": "code",
      "metadata": {
        "id": "f9N5acg8ccIE",
        "colab": {
          "base_uri": "https://localhost:8080/"
        },
        "outputId": "4910f070-ccd5-4feb-fec4-8afa956e23eb"
      },
      "source": [
        "np.corrcoef(x, y)"
      ],
      "execution_count": null,
      "outputs": [
        {
          "output_type": "execute_result",
          "data": {
            "text/plain": [
              "array([[ 1.        , -0.95320714],\n",
              "       [-0.95320714,  1.        ]])"
            ]
          },
          "metadata": {},
          "execution_count": 39
        }
      ]
    },
    {
      "cell_type": "markdown",
      "metadata": {
        "id": "rWQdxezccmNm"
      },
      "source": [
        "5) Faça uma função que receba um ndarray de valores inteiros e retorne um ndarray de mesma dimensão, onde os valores negativos serão substituídos por True e os valores positivos por False."
      ]
    },
    {
      "cell_type": "code",
      "source": [
        "import numpy as np\n",
        "def array_bool():\n",
        "  linhas = int(input(\"Qtd de linhas: \"))\n",
        "  vetor = []\n",
        "  for i in range(linhas):\n",
        "    coluna= eval('[' + input(f\"Digite os valores da linha {i+1}: \") + ']')\n",
        "    vetor.append(coluna)\n",
        "  arr = np.array(vetor)\n",
        "  print(\"o array de entrada foi: \", arr)\n",
        "  arr_bool = arr < 0\n",
        "  return arr_bool"
      ],
      "metadata": {
        "id": "MvfcpkmQWxNz"
      },
      "execution_count": null,
      "outputs": []
    },
    {
      "cell_type": "code",
      "source": [
        "array_bool()"
      ],
      "metadata": {
        "colab": {
          "base_uri": "https://localhost:8080/"
        },
        "id": "YlgO5bDxVYYe",
        "outputId": "e5df84d8-a7a9-4028-ba71-d4ff1f55518c"
      },
      "execution_count": null,
      "outputs": [
        {
          "output_type": "stream",
          "name": "stdout",
          "text": [
            "Qtd de linhas: 2\n",
            "Digite os valores da linha 1: -1,2,6\n",
            "Digite os valores da linha 2: -9,2,3\n",
            "o array de entrada foi:  [[-1  2  6]\n",
            " [-9  2  3]]\n"
          ]
        },
        {
          "output_type": "execute_result",
          "data": {
            "text/plain": [
              "array([[ True, False, False],\n",
              "       [ True, False, False]])"
            ]
          },
          "metadata": {},
          "execution_count": 26
        }
      ]
    }
  ]
}