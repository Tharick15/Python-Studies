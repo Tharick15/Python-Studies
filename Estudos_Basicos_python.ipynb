{
  "cells": [
    {
      "cell_type": "markdown",
      "metadata": {
        "id": "view-in-github",
        "colab_type": "text"
      },
      "source": [
        "<a href=\"https://colab.research.google.com/github/Tharick15/Python-Studies/blob/main/Estudos_Basicos_python.ipynb\" target=\"_parent\"><img src=\"https://colab.research.google.com/assets/colab-badge.svg\" alt=\"Open In Colab\"/></a>"
      ]
    },
    {
      "cell_type": "markdown",
      "metadata": {
        "id": "8kih40y9pksj"
      },
      "source": [
        "# Estudos básicos em Python"
      ]
    },
    {
      "cell_type": "markdown",
      "metadata": {
        "id": "nSqOopEApksl"
      },
      "source": [
        "Considerando a seguinte lista:"
      ]
    },
    {
      "cell_type": "code",
      "execution_count": null,
      "metadata": {
        "id": "8ZA2_XTzpksm"
      },
      "outputs": [],
      "source": [
        "lista = [98, 2, 29, 8, 98, 10, 3, 98, -4, 9, 10, 98]"
      ]
    },
    {
      "cell_type": "markdown",
      "metadata": {
        "id": "bGv0VS7tpksr"
      },
      "source": [
        "#### Usando as funções apresentadas, faça de maneira dinâmica os seguintes exercícios:\n",
        "\n",
        "Imprimindo a soma do maior e o menor elemento da lista:"
      ]
    },
    {
      "cell_type": "code",
      "execution_count": null,
      "metadata": {
        "id": "jLlwCCF-pkss",
        "colab": {
          "base_uri": "https://localhost:8080/"
        },
        "outputId": "1e62a7bf-8551-4ed1-b9a5-597feb1099be"
      },
      "outputs": [
        {
          "output_type": "stream",
          "name": "stdout",
          "text": [
            "94\n"
          ]
        }
      ],
      "source": [
        "print (max(lista) + min(lista))"
      ]
    },
    {
      "cell_type": "markdown",
      "metadata": {
        "id": "PuArl5-0pksw"
      },
      "source": [
        "Imprimindo o número de ocorrências do maior elemento da lista:"
      ]
    },
    {
      "cell_type": "code",
      "execution_count": null,
      "metadata": {
        "id": "4JNGQDOzpksx",
        "colab": {
          "base_uri": "https://localhost:8080/"
        },
        "outputId": "aaf3d8a5-fab8-43e7-d015-37963e9fb225"
      },
      "outputs": [
        {
          "output_type": "stream",
          "name": "stdout",
          "text": [
            "4\n"
          ]
        }
      ],
      "source": [
        "print (lista.count(max(lista)))"
      ]
    },
    {
      "cell_type": "markdown",
      "metadata": {
        "id": "tv1uvGmmpks1"
      },
      "source": [
        "Imprimindo o elemento no meio da lista usando as funções apresentadas em sala:"
      ]
    },
    {
      "cell_type": "code",
      "execution_count": null,
      "metadata": {
        "id": "813Zv_NRpks2",
        "colab": {
          "base_uri": "https://localhost:8080/"
        },
        "outputId": "d06f9a55-7e97-4acf-8312-da4dacd60d7b"
      },
      "outputs": [
        {
          "output_type": "stream",
          "name": "stdout",
          "text": [
            "O numero de elementos da lista é par e os elementos do meio são: 10 e 3\n"
          ]
        }
      ],
      "source": [
        "if len(lista)%2 == 0:\n",
        "  print(\"O numero de elementos da lista é par e os elementos do meio são:\", lista[int ((len(lista)/2)-1)], \"e\" , lista[int (len(lista)/2)])\n",
        "else:\n",
        "  print(\"O numero de elementos da lista é impar e o elemento do meio é:\", lista[int ((len(lista)/2)-1)])"
      ]
    },
    {
      "cell_type": "markdown",
      "metadata": {
        "id": "8PBchreRpks6"
      },
      "source": [
        "Imprimindo o maior elemento da lista elevado ao quadrado:"
      ]
    },
    {
      "cell_type": "code",
      "execution_count": null,
      "metadata": {
        "id": "fVonma4Ypks6",
        "colab": {
          "base_uri": "https://localhost:8080/"
        },
        "outputId": "473f2e06-a6e7-460c-dc47-c593ed7ab8a0"
      },
      "outputs": [
        {
          "output_type": "stream",
          "name": "stdout",
          "text": [
            "9604\n"
          ]
        }
      ],
      "source": [
        "print (max(lista)**2)"
      ]
    },
    {
      "cell_type": "markdown",
      "metadata": {
        "id": "P8viaLzmpks-"
      },
      "source": [
        "Criando uma lista com todos os números pares de 0 até 1000."
      ]
    },
    {
      "cell_type": "code",
      "execution_count": null,
      "metadata": {
        "id": "shBICn7ipks-"
      },
      "outputs": [],
      "source": [
        "list(range(0,1001,2))"
      ]
    },
    {
      "cell_type": "markdown",
      "metadata": {
        "id": "i4B06benpktC"
      },
      "source": [
        "Criando uma lista com todos os números ímpares de 0 até 10.000."
      ]
    },
    {
      "cell_type": "code",
      "execution_count": null,
      "metadata": {
        "id": "Y_jdoNpxpktD"
      },
      "outputs": [],
      "source": [
        "list(range(1,10001,2))"
      ]
    },
    {
      "cell_type": "markdown",
      "metadata": {
        "id": "XFAJxyGopktG"
      },
      "source": [
        "Imprimindo o valor da média de todos os elementos da lista."
      ]
    },
    {
      "cell_type": "code",
      "execution_count": null,
      "metadata": {
        "id": "0cqvTHLBh9iR",
        "colab": {
          "base_uri": "https://localhost:8080/"
        },
        "outputId": "fe1c97bb-be55-46d8-ba1b-d48c52c83abd"
      },
      "outputs": [
        {
          "output_type": "stream",
          "name": "stdout",
          "text": [
            "38.25\n"
          ]
        }
      ],
      "source": [
        "print (sum(lista)/len(lista))"
      ]
    },
    {
      "cell_type": "markdown",
      "metadata": {
        "id": "VpLxhb4JpktK"
      },
      "source": [
        "Criando 3 tuplas para representar as informações de alunos em uma disciplina, cada tupla deverá conter o nome do aluno seguido de suas duas notas."
      ]
    },
    {
      "cell_type": "code",
      "execution_count": null,
      "metadata": {
        "id": "2aYufowapktK"
      },
      "outputs": [],
      "source": [
        "aluno_1 = (\"Carlos\" , 10 , 8 )\n",
        "aluno_2 = (\"Ana\", 9 , 5)\n",
        "aluno_3 = (\"Vitor\", 6 , 10)"
      ]
    },
    {
      "cell_type": "markdown",
      "metadata": {
        "id": "OkuOWXPGpktP"
      },
      "source": [
        "Imprimindo a soma das notas de cada aluno do exercício 8, use as variáveis criadas por você:"
      ]
    },
    {
      "cell_type": "code",
      "execution_count": null,
      "metadata": {
        "id": "ll1kFUypomY0",
        "colab": {
          "base_uri": "https://localhost:8080/"
        },
        "outputId": "7ae3457e-79c8-466f-f3d9-0354b18be1a7"
      },
      "outputs": [
        {
          "output_type": "stream",
          "name": "stdout",
          "text": [
            "a soma das notas do Carlos é: 18\n",
            "a soma das notas do Ana é: 14\n",
            "a soma das notas do Vitor é: 16\n"
          ]
        }
      ],
      "source": [
        "print(\"a soma das notas do\",aluno_1[0] , \"é:\", sum(aluno_1[1:]))\n",
        "print(\"a soma das notas do\",aluno_2[0] , \"é:\", sum(aluno_2[1:]))\n",
        "print(\"a soma das notas do\",aluno_3[0] , \"é:\", sum(aluno_3[1:]))"
      ]
    },
    {
      "cell_type": "markdown",
      "metadata": {
        "id": "dL5CJjvZpktT"
      },
      "source": [
        "Imprimindo o nome e a maior nota de cada aluno do exercício 8, use as variáveis criadas por você:"
      ]
    },
    {
      "cell_type": "code",
      "execution_count": null,
      "metadata": {
        "id": "tsNqK5wnpktU",
        "colab": {
          "base_uri": "https://localhost:8080/"
        },
        "outputId": "57885360-d4be-4bae-c863-c1c9c38dca34"
      },
      "outputs": [
        {
          "output_type": "stream",
          "name": "stdout",
          "text": [
            "a maior nota do Carlos é: 10\n",
            "a maior nota do Ana é: 9\n",
            "a maior nota do Vitor é: 10\n"
          ]
        }
      ],
      "source": [
        "print(\"a maior nota do\",aluno_1[0] , \"é:\", max(aluno_1[1:]))\n",
        "print(\"a maior nota do\",aluno_2[0] , \"é:\", max(aluno_2[1:]))\n",
        "print(\"a maior nota do\",aluno_3[0] , \"é:\", max(aluno_3[1:]))"
      ]
    },
    {
      "cell_type": "markdown",
      "metadata": {
        "id": "hX2F78TbFd_T"
      },
      "source": [
        "Construindo um dicionário para armazenar as notas de 5 alunos"
      ]
    },
    {
      "cell_type": "code",
      "metadata": {
        "id": "98EdgG_xkrHl"
      },
      "source": [
        "notas_alunos = {\"Mario\" : 5 , \"Joana\" : 10 , \"José\" : 8, \"Marcos\" : 7 , \"Carlos\" : 3 }"
      ],
      "execution_count": null,
      "outputs": []
    },
    {
      "cell_type": "markdown",
      "metadata": {
        "id": "8PRj7bRfcaXu"
      },
      "source": [
        "Usando o dicionário criado para imprimir o valor da maior nota"
      ]
    },
    {
      "cell_type": "code",
      "metadata": {
        "id": "EwAeRvFScap6",
        "colab": {
          "base_uri": "https://localhost:8080/"
        },
        "outputId": "a7e81fe6-4294-4643-9438-18a958817349"
      },
      "source": [
        "print (max(notas_alunos.values()))"
      ],
      "execution_count": null,
      "outputs": [
        {
          "output_type": "stream",
          "name": "stdout",
          "text": [
            "10\n"
          ]
        }
      ]
    },
    {
      "cell_type": "markdown",
      "metadata": {
        "id": "VEqNDxEIca9N"
      },
      "source": [
        "Sabendo que A = {0, 1, 2, 3, 4, 5, 6}, B = {6, 7, 8, 9} e C = {2, 4, 6, 8, 10}, quais são os elementos do conjunto (A∩B)UC?"
      ]
    },
    {
      "cell_type": "code",
      "metadata": {
        "id": "7Ft7nB_VqhSh",
        "colab": {
          "base_uri": "https://localhost:8080/"
        },
        "outputId": "b4863b1c-e2be-4bcc-a3e6-e890836cad07"
      },
      "source": [
        "A = {0, 1, 2, 3, 4, 5, 6}\n",
        "B = {6, 7, 8, 9}\n",
        "C = {2, 4, 6, 8, 10}\n",
        "\n",
        "(A.intersection(B)).union(C)"
      ],
      "execution_count": null,
      "outputs": [
        {
          "output_type": "execute_result",
          "data": {
            "text/plain": [
              "{2, 4, 6, 8, 10}"
            ]
          },
          "metadata": {},
          "execution_count": 6
        }
      ]
    },
    {
      "cell_type": "markdown",
      "metadata": {
        "id": "rWQdxezccmNm"
      },
      "source": [
        "Solicitando que o usuário informe 4 valores inteiros, adiciondo-os em um conjunto e imprimindo o valor do somatório dos elementos do conjunto."
      ]
    },
    {
      "cell_type": "code",
      "metadata": {
        "id": "-ZErDKK2SIEe",
        "colab": {
          "base_uri": "https://localhost:8080/"
        },
        "outputId": "53a3aec0-9315-4e1f-8163-f87081942e43"
      },
      "source": [
        "conjuntoSet = set()\n",
        "\n",
        "while len(conjuntoSet) < 4 :\n",
        "  try:\n",
        "    numero = int(input(\"insira um valor:\"))\n",
        "    conjuntoSet.add(numero)\n",
        "  except ValueError :\n",
        "    print(\"Por favor, insira apenas valores inteiros :-)\")\n",
        "\n",
        "print(\"o conjunto criado foi\", conjuntoSet , \" e a soma dos elementos foi\", sum(conjuntoSet))\n",
        "\n"
      ],
      "execution_count": null,
      "outputs": [
        {
          "output_type": "stream",
          "name": "stdout",
          "text": [
            "insira um valor:1\n",
            "insira um valor:1\n",
            "insira um valor:1\n",
            "insira um valor:1\n",
            "insira um valor:1\n",
            "insira um valor:1\n",
            "insira um valor:\n",
            "Por favor, insira apenas valores inteiros :-)\n",
            "insira um valor:1\n",
            "insira um valor:2\n",
            "insira um valor:5\n",
            "insira um valor:8\n",
            "o conjunto criado foi {8, 1, 2, 5}  e a soma dos elementos foi 16\n"
          ]
        }
      ]
    }
  ],
  "metadata": {
    "colab": {
      "collapsed_sections": [],
      "name": "Estudos Basicos python.ipynb",
      "provenance": [],
      "include_colab_link": true
    },
    "kernelspec": {
      "display_name": "Python 3 (ipykernel)",
      "language": "python",
      "name": "python3"
    },
    "language_info": {
      "codemirror_mode": {
        "name": "ipython",
        "version": 3
      },
      "file_extension": ".py",
      "mimetype": "text/x-python",
      "name": "python",
      "nbconvert_exporter": "python",
      "pygments_lexer": "ipython3",
      "version": "3.9.11"
    }
  },
  "nbformat": 4,
  "nbformat_minor": 0
}