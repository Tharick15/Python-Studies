{
  "nbformat": 4,
  "nbformat_minor": 0,
  "metadata": {
    "kernelspec": {
      "display_name": "Python 3",
      "language": "python",
      "name": "python3"
    },
    "language_info": {
      "codemirror_mode": {
        "name": "ipython",
        "version": 3
      },
      "file_extension": ".py",
      "mimetype": "text/x-python",
      "name": "python",
      "nbconvert_exporter": "python",
      "pygments_lexer": "ipython3",
      "version": "3.7.3"
    },
    "colab": {
      "name": "Estudos Python 2",
      "provenance": [],
      "collapsed_sections": [
        "9cKOL6tBFd_R"
      ],
      "include_colab_link": true
    }
  },
  "cells": [
    {
      "cell_type": "markdown",
      "metadata": {
        "id": "view-in-github",
        "colab_type": "text"
      },
      "source": [
        "<a href=\"https://colab.research.google.com/github/Tharick15/Python-Studies/blob/main/Estudos_Python_2.ipynb\" target=\"_parent\"><img src=\"https://colab.research.google.com/assets/colab-badge.svg\" alt=\"Open In Colab\"/></a>"
      ]
    },
    {
      "cell_type": "markdown",
      "metadata": {
        "id": "9cKOL6tBFd_R"
      },
      "source": [
        "# Estudos Python 2\n"
      ]
    },
    {
      "cell_type": "markdown",
      "metadata": {
        "id": "hX2F78TbFd_T"
      },
      "source": [
        "1) Em uma competição de salto em distância cada atleta tem direito a cinco saltos. O resultado do atleta será determinado pela média dos cinco valores restantes. Você deve fazer um programa que receba o nome e as cinco distâncias alcançadas pelo atleta em seus saltos e depois informe o nome, os saltos e a média dos saltos. O programa deve ser encerrado quando não for informado o nome do atleta. A saída do programa deve ser conforme o exemplo abaixo:\n",
        "\n",
        "Atleta: Rodrigo\n",
        " \n",
        "Primeiro Salto: 6.5 m\n",
        "\n",
        "Segundo Salto: 6.1 m\n",
        "\n",
        "Terceiro Salto: 6.2 m\n",
        "\n",
        "Quarto Salto: 5.4 m\n",
        "\n",
        "Quinto Salto: 5.3 m\n",
        "\n",
        "Resultado final:\n",
        "\n",
        "Atleta: Rodrigo\n",
        "\n",
        "Saltos: 6.5 - 6.1 - 6.2 - 5.4 - 5.3\n",
        "\n",
        "Média dos saltos: 5.9 m\n"
      ]
    },
    {
      "cell_type": "code",
      "metadata": {
        "id": "-a_v7g_XqAcp",
        "colab": {
          "base_uri": "https://localhost:8080/"
        },
        "outputId": "29f59755-bd50-477c-9070-6d280df7ef81"
      },
      "source": [
        "dados_atleta = {}\n",
        "saltos = []\n",
        "distancia = 0\n",
        "posicao_salto = (\"Primeiro salto: \", \"Segundo salto: \", \"Terceiro salto: \", \"Quarto salto: \", \"Quinto salto: \")\n",
        "nome = input(\"Atleta: \")\n",
        "while nome != \"\":\n",
        "  while len(saltos) < 5:\n",
        "    try:\n",
        "      distancia = float(input((posicao_salto[len(saltos)])))\n",
        "      saltos.append(distancia)\n",
        "    except ValueError:\n",
        "      print(\"digite um valor numérico para a distância\")\n",
        "  print(\"\\nResultado final:\\nAtleta:\", nome)\n",
        "  print(f\"Saltos: {saltos[0]} - {saltos[1]} - {saltos[2]} - {saltos[3]} - {saltos[4]}\")\n",
        "  print(\"Média dos saltos:\", (sum(saltos)/len(saltos)), \"m\")\n",
        "  print(\"-------------------------------------------------------------------------------\\n\")\n",
        "  nome = input(\"Atleta:\")\n",
        "\n",
        "print(\"Não foi informado o nome do atelta \\nPrograma Finalizado\")"
      ],
      "execution_count": 3,
      "outputs": [
        {
          "output_type": "stream",
          "name": "stdout",
          "text": [
            "Atleta: Marcos\n",
            "Primeiro salto: 5\n",
            "Segundo salto: 6\n",
            "Terceiro salto: 4\n",
            "Quarto salto: 2\n",
            "Quinto salto: 6\n",
            "\n",
            "Resultado final:\n",
            "Atleta: Marcos\n",
            "Saltos: 5.0 - 6.0 - 4.0 - 2.0 - 6.0\n",
            "Média dos saltos: 4.6 m\n",
            "-------------------------------------------------------------------------------\n",
            "\n",
            "Atleta:\n",
            "Não foi informado o nome do atelta \n",
            "Programa Finalizado\n"
          ]
        }
      ]
    },
    {
      "cell_type": "markdown",
      "metadata": {
        "id": "8PRj7bRfcaXu"
      },
      "source": [
        "2) Qual é a diferença entre o **while** e **for**?"
      ]
    },
    {
      "cell_type": "markdown",
      "metadata": {
        "id": "hJr6RsJ0ItTj"
      },
      "source": [
        "Resposta:\n",
        "\n",
        "O while é um laço de repetição utilizado quando se deseja realizar uma tarefa dada uma determinada condição, sem se saber o número de iterações de antemão. Já o for é um laço de repetição que se sabe o numero de iterações utilizando-se assim de algum contador sequencial geralmente. "
      ]
    },
    {
      "cell_type": "markdown",
      "metadata": {
        "id": "VEqNDxEIca9N"
      },
      "source": [
        "3) Faça um Programa que peça a idade e a altura de 5 pessoas, armazene cada informação no seu respectivo vetor. Imprima a idade e a altura na ordem inversa a ordem lida."
      ]
    },
    {
      "cell_type": "code",
      "metadata": {
        "id": "u8d1uuMncbK6",
        "colab": {
          "base_uri": "https://localhost:8080/"
        },
        "outputId": "a7703f3e-44e0-467f-e25f-5ed38fb8aa92"
      },
      "source": [
        "dados_alturas=[]\n",
        "while len(dados_alturas) < 5:\n",
        "  nome = input(\"Nome: \")\n",
        "  lista = []\n",
        "  altura=float(input(\"Altura: \"))\n",
        "  lista.append(nome)\n",
        "  lista.append(altura)\n",
        "  dados_alturas.append(lista)\n",
        "  lista\n",
        "print(\"-----------------------------\")\n",
        "j = len(dados_alturas)-1\n",
        "while j >= 0:\n",
        "  print(f\"A altura de {dados_alturas[j][0]} é {dados_alturas[j][1]}\")\n",
        "  j = j-1"
      ],
      "execution_count": 2,
      "outputs": [
        {
          "output_type": "stream",
          "name": "stdout",
          "text": [
            "Nome: João\n",
            "Altura: 1.75\n",
            "Nome: Maria\n",
            "Altura: 1.65\n",
            "Nome: Fernando\n",
            "Altura: 1.83\n",
            "Nome: Ana\n",
            "Altura: 1.70\n",
            "Nome: Marcia\n",
            "Altura: 1.50\n",
            "-----------------------------\n",
            "A altura de Marcia é 1.5\n",
            "A altura de Ana é 1.7\n",
            "A altura de Fernando é 1.83\n",
            "A altura de Maria é 1.65\n",
            "A altura de João é 1.75\n"
          ]
        }
      ]
    },
    {
      "cell_type": "markdown",
      "metadata": {
        "id": "KeAs6hMwcb8c"
      },
      "source": [
        "4) Faça um Programa que leia dois vetores com 10 elementos cada. Gere um terceiro vetor de 20 elementos, cujos valores deverão ser compostos pelos elementos intercalados dos dois outros vetores."
      ]
    },
    {
      "cell_type": "code",
      "metadata": {
        "id": "f9N5acg8ccIE",
        "colab": {
          "base_uri": "https://localhost:8080/"
        },
        "outputId": "4335b841-2b74-4f00-edbb-81b905f6f098"
      },
      "source": [
        "vetor1 = eval('[' + input(\"Digite o vetor 1: \") + ']')\n",
        "vetor2 = eval('[' + input(\"Digite o vetor 2: \") + ']')\n",
        "vetores = []\n",
        "i = 0\n",
        "while len(vetores)<20:\n",
        "  vetores.append(vetor1[i])\n",
        "  vetores.append(vetor2[i])\n",
        "  i=i+1\n",
        "\n",
        "print(vetores)"
      ],
      "execution_count": null,
      "outputs": [
        {
          "output_type": "stream",
          "name": "stdout",
          "text": [
            "Digite o vetor 1: 1,2,3,4,5,6,7,8,9,10\n",
            "Digite o vetor 2: 1,2,3,4,5,6,7,8,9,10\n",
            "[1, 2, 3, 4, 5, 6, 7, 8, 9, 10]\n",
            "[1, 2, 3, 4, 5, 6, 7, 8, 9, 10]\n",
            "[1, 1, 2, 2, 3, 3, 4, 4, 5, 5, 6, 6, 7, 7, 8, 8, 9, 9, 10, 10]\n"
          ]
        }
      ]
    },
    {
      "cell_type": "markdown",
      "metadata": {
        "id": "rWQdxezccmNm"
      },
      "source": [
        "5) Faça um programa que receba a temperatura média de cada mês do ano e armazene-as em uma lista. Após isto, calcule a média anual das temperaturas e mostre todas as temperaturas acima da média anual, e em que mês elas ocorreram (mostrar o mês por extenso: 1 – Janeiro, 2 – Fevereiro,...)."
      ]
    },
    {
      "cell_type": "code",
      "metadata": {
        "id": "sXV8TGpRcmWA",
        "colab": {
          "base_uri": "https://localhost:8080/"
        },
        "outputId": "f8deeb17-d67f-4920-c816-6a3233dfbd07"
      },
      "source": [
        "meses_ano={1:\"Janeiro\",2:\"Fevereiro\",3:\"Março\",4:\"Abril\",5:\"Maio\",6:\"Junho\",7:\"Julho\",8:\"Agosto\",9:\"Setembro\",10:\"Outubro\",11:\"Novembro\",12:\"Dezembro\"}\n",
        "temperaturas = []\n",
        "i = 1\n",
        "while 0<i<13:\n",
        "  try:\n",
        "    temperatura = float(input(f\"Insira a temperatura média de {meses_ano[i]}: \"))\n",
        "    temperaturas.append(temperatura)\n",
        "    i += 1\n",
        "  except ValueError:\n",
        "    print(\"Digite um valor para a temperatura média\")\n",
        "media_anual = (sum(temperaturas))/len(temperaturas)\n",
        "print(f\"A média anual de temperaturas foi de {media_anual} C\")\n",
        "for i in meses_ano.keys():\n",
        "  if temperaturas[i-1] > media_anual:\n",
        "    print(f\"A temperatura média de {meses_ano[i]} foi de {temperaturas[i-1]} e está acima da média anual\")"
      ],
      "execution_count": 4,
      "outputs": [
        {
          "output_type": "stream",
          "name": "stdout",
          "text": [
            "Insira a temperatura média de Janeiro: 30\n",
            "Insira a temperatura média de Fevereiro: 35\n",
            "Insira a temperatura média de Março: 32\n",
            "Insira a temperatura média de Abril: 31\n",
            "Insira a temperatura média de Maio: 30\n",
            "Insira a temperatura média de Junho: 25\n",
            "Insira a temperatura média de Julho: 18\n",
            "Insira a temperatura média de Agosto: 19\n",
            "Insira a temperatura média de Setembro: 20\n",
            "Insira a temperatura média de Outubro: 25\n",
            "Insira a temperatura média de Novembro: 27\n",
            "Insira a temperatura média de Dezembro: 30\n",
            "A média anual de temperaturas foi de 26.833333333333332 C\n",
            "A temperatura média de Janeiro foi de 30.0 e está acima da média anual\n",
            "A temperatura média de Fevereiro foi de 35.0 e está acima da média anual\n",
            "A temperatura média de Março foi de 32.0 e está acima da média anual\n",
            "A temperatura média de Abril foi de 31.0 e está acima da média anual\n",
            "A temperatura média de Maio foi de 30.0 e está acima da média anual\n",
            "A temperatura média de Novembro foi de 27.0 e está acima da média anual\n",
            "A temperatura média de Dezembro foi de 30.0 e está acima da média anual\n"
          ]
        }
      ]
    },
    {
      "cell_type": "markdown",
      "source": [
        "6) Crie um programa que receba o nome completo de 10 pessoas e armazene em um vetor. Depois, imprima as iniciais de cada pessoa.  Se o nome conter a palavra \"de\", ela deverá ser desconsiderada nas iniciais.\n",
        "\n",
        "Exemplo:\n",
        "\n",
        "Nome 1: Maria Aparecida Ferreira\n",
        "\n",
        "Nome 2: Maria de Almeida\n",
        "\n",
        "Resultado:\n",
        "\n",
        "M.A.F\n",
        "\n",
        "M.A\n"
      ],
      "metadata": {
        "id": "syMu3rAxQbvv"
      }
    },
    {
      "cell_type": "code",
      "source": [
        "nomes = []\n",
        "siglas = []\n",
        "for i in range(10):\n",
        "  inin_nome = []\n",
        "  nome = str(input(f\"Nome {(i+1)}: \"))\n",
        "  nome1 = nome.upper()\n",
        "  nome_corrigido = nome1.split(\" \")\n",
        "  if \"DE\" in nome_corrigido:\n",
        "    nome_corrigido.remove(\"DE\")\n",
        "  for i in range(len(nome_corrigido)):\n",
        "    sigla = nome_corrigido[i][0] + \".\"\n",
        "    inin_nome.append(sigla) \n",
        "  siglas.append(inin_nome)\n",
        "print(\"Resultado: \")  \n",
        "for i in range(len(siglas)):\n",
        "  for j in range(len(siglas[i])):\n",
        "    print(siglas[i][j] , end=\"\" )\n",
        "  print(\"\\n\")"
      ],
      "metadata": {
        "id": "liiiTRRKQcDi",
        "colab": {
          "base_uri": "https://localhost:8080/"
        },
        "outputId": "05a73013-34fc-4580-ba95-73fdcadf2db0"
      },
      "execution_count": 8,
      "outputs": [
        {
          "output_type": "stream",
          "name": "stdout",
          "text": [
            "Nome 1: MARIA FERNANDES\n",
            "Nome 2: CARLOS ALVES\n",
            "Nome 3: MARCOS PATRICIO\n",
            "Nome 4: CARLOS DE SOUZA\n",
            "Nome 5: MARIA DE SOUZA\n",
            "Nome 6: MARIA ALMEIDA\n",
            "Nome 7: MARCOS DE ALMEIDA\n",
            "Nome 8: CARLOS DE ALMEIDA\n",
            "Nome 9: ANA DE ALMEIDA\n",
            "Nome 10: ANA SOUZA\n",
            "Resultado: \n",
            "M.F.\n",
            "\n",
            "C.A.\n",
            "\n",
            "M.P.\n",
            "\n",
            "C.S.\n",
            "\n",
            "M.S.\n",
            "\n",
            "M.A.\n",
            "\n",
            "M.A.\n",
            "\n",
            "C.A.\n",
            "\n",
            "A.A.\n",
            "\n",
            "A.S.\n",
            "\n"
          ]
        }
      ]
    },
    {
      "cell_type": "markdown",
      "source": [
        "7) Uma sequência de Fibonacci é a sequência inteira de 0, 1, 1, 2, 3, 5, 8....\n",
        "\n",
        "Os dois primeiros termos são 0 e 1. Todos os outros termos são obtidos pela soma dos dois termos anteriores. Isso significa dizer que o n-ésimo termo é a soma do (n-1)º e (n-2)º termo. Crie um programa que receba a quantidade de elemento e imprima a senquencia de Fibonacci:\n",
        "\n",
        "**Exemplo:**\n",
        "\n",
        "Informe a quantidade de elemento: 4\n",
        "\n",
        "Resultado:\n",
        "\n",
        "0\n",
        "\n",
        "1\n",
        "\n",
        "1\n",
        "\n",
        "2"
      ],
      "metadata": {
        "id": "mfs_4VwWRBbk"
      }
    },
    {
      "cell_type": "code",
      "source": [
        "fibo = [0 , 1]\n",
        "try:\n",
        "  qtd_elementos = int(input(\"Informe a quantidade de elementoS: \"))\n",
        "  if qtd_elementos == 0:\n",
        "    print(\"Digite um valor maior que 0\")\n",
        "  elif qtd_elementos == 1:\n",
        "    print(\"Resultado: \\n\", fibo[0])\n",
        "  else:\n",
        "   for i in range((qtd_elementos-2)):\n",
        "     num = fibo[i] + fibo[i+1]\n",
        "     fibo.append(num)\n",
        "   print(\"Resultado:\")\n",
        "   for i in range(len(fibo)):\n",
        "     print(fibo[i])\n",
        "except ValueError:\n",
        "      print(\"Digite um valor numérico inteiro para a quanridade de elementos\")"
      ],
      "metadata": {
        "id": "KXqeOcDlREi4",
        "colab": {
          "base_uri": "https://localhost:8080/"
        },
        "outputId": "061cb6f2-9dfb-4c51-9c0b-1f739b7155e7"
      },
      "execution_count": 10,
      "outputs": [
        {
          "output_type": "stream",
          "name": "stdout",
          "text": [
            "Informe a quantidade de elementoS: 10\n",
            "Resultado:\n",
            "0\n",
            "1\n",
            "1\n",
            "2\n",
            "3\n",
            "5\n",
            "8\n",
            "13\n",
            "21\n",
            "34\n"
          ]
        }
      ]
    },
    {
      "cell_type": "markdown",
      "source": [
        "8) Escreva um programa que leia um número e retorne o seu fatorial.\n",
        "\n",
        "5! = 5 x 4 x 3 x 2 x 1 = 120\n",
        "\n",
        "**Exemplo:**\n",
        "\n",
        "Digite um número: 5\n",
        "\n",
        "Resultado:\n",
        "O fatorial de 5 é 120."
      ],
      "metadata": {
        "id": "x_Uxck8YRFNC"
      }
    },
    {
      "cell_type": "code",
      "source": [
        "numero = int(input(\"Digite o valor que deseja saber o fatorial: \"))\n",
        "fatorial_num = 1\n",
        "count = 1\n",
        "while count <= numero:\n",
        "  fatorial_num *= count\n",
        "  count += 1\n",
        "\n",
        "print(\"O resultado é :\", fatorial_num)"
      ],
      "metadata": {
        "id": "v-uOFxV8RHnn",
        "colab": {
          "base_uri": "https://localhost:8080/"
        },
        "outputId": "d2e8712b-828d-49a3-9382-18f468bf30c4"
      },
      "execution_count": 11,
      "outputs": [
        {
          "output_type": "stream",
          "name": "stdout",
          "text": [
            "Digite o valor que deseja saber o fatorial: 5\n",
            "O resultado é : 120\n"
          ]
        }
      ]
    },
    {
      "cell_type": "markdown",
      "source": [
        "9) Crie um programa que leia uma temperatura em graus Celsius ou Fahrenheit e converta para a outra escala.\n",
        "\n",
        "**Equações:**\n",
        "\n",
        "C =  (F - 32) * (5/9)\n",
        "\n",
        "F = (C * 9/5) + 32\n",
        "\n",
        "\n",
        "**Exemplo 1 :**\n",
        "\n",
        "Informe a temperatura: 45F\n",
        "\n",
        "\n",
        "Resultado:\n",
        "\n",
        "A temperatura em Celsius é 7 graus.\n",
        "\n",
        "**Exemplo 2 :**\n",
        "\n",
        "Informe a temperatura: 7C\n",
        "\n",
        "\n",
        "Resultado:\n",
        "\n",
        "A temperatura em Fahrenheit é 45 graus."
      ],
      "metadata": {
        "id": "eJr1AWoXRILa"
      }
    },
    {
      "cell_type": "code",
      "source": [
        "temperatura = input(\"informe a temperatura: \")\n",
        "temperatura = temperatura.upper()\n",
        "temp = float(temperatura[:-1])\n",
        "if \"F\" in temperatura:\n",
        "  C = (temp - 32) * (5/9)\n",
        "  print(\"a temperatura é: \", C , \"°C\")\n",
        "elif \"C\" in temperatura:\n",
        "  F = (temp * 9/5) + 32\n",
        "  print(\"a temperatura é: \", F , \"°F\")\n",
        "else:\n",
        "  print(\"A temperatura não pode ser calculada pois a unidade informada não é valida\")"
      ],
      "metadata": {
        "id": "U8XTC1A3RLFX",
        "colab": {
          "base_uri": "https://localhost:8080/"
        },
        "outputId": "e7c21797-8080-44a2-e853-df50c874de9f"
      },
      "execution_count": 14,
      "outputs": [
        {
          "output_type": "stream",
          "name": "stdout",
          "text": [
            "informe a temperatura: 25 F\n",
            "a temperatura é:  -3.8888888888888893 °C\n"
          ]
        }
      ]
    },
    {
      "cell_type": "markdown",
      "source": [
        "10) Escreva um programa que leia uma sequencia de 10 números e retorne a quantidade de números pares e impares.\n",
        "\n",
        "**Exemplo:**\n",
        "\n",
        "Digite o 1 número: 2\n",
        "\n",
        "Digite o 2 número: 4\n",
        "\n",
        "Digite o 3 número: 7\n",
        "\n",
        "Digite o 4 número: 12\n",
        "\n",
        "Digite o 5 número: 33\n",
        "\n",
        "Resultado:\n",
        "\n",
        "Quantidade de números pares: 3\n",
        "\n",
        "Quantidade de números ímpares: 2"
      ],
      "metadata": {
        "id": "FnGVpvc-RMRe"
      }
    },
    {
      "cell_type": "code",
      "source": [
        "posicao = (\"1°\",\"2°\",\"3°\",\"4°\",\"5°\")\n",
        "pares = []\n",
        "impares = []\n",
        "for i in range(5):\n",
        "  try:\n",
        "    numero = float(input(f\"Digite o {posicao[i]} número: \"))\n",
        "    if numero % 2 == 0:\n",
        "      pares.append(numero)\n",
        "    else:\n",
        "      impares.append(numero)\n",
        "  except ValueError:\n",
        "    print(\"Digite um numero\")\n",
        "\n",
        "print(\"Resultado: \\nQuantidade de números pares: \", len(pares))\n",
        "print(\"Quantidade de números impares: \", len(impares))"
      ],
      "metadata": {
        "id": "Dt2VS54dRLoV",
        "colab": {
          "base_uri": "https://localhost:8080/"
        },
        "outputId": "3adcefc1-5335-49e0-a512-e9fb3cdbe2dd"
      },
      "execution_count": 15,
      "outputs": [
        {
          "output_type": "stream",
          "name": "stdout",
          "text": [
            "Digite o 1° número: 1\n",
            "Digite o 2° número: 2\n",
            "Digite o 3° número: 3\n",
            "Digite o 4° número: 2\n",
            "Digite o 5° número: 5\n",
            "Resultado: \n",
            "Quantidade de números pares:  2\n",
            "Quantidade de números impares:  3\n"
          ]
        }
      ]
    },
    {
      "cell_type": "markdown",
      "metadata": {
        "id": "Mra8HSr53VDK"
      },
      "source": [
        "# Atividade Prática - Exercício 4\n",
        "#### Valor : 10 pontos"
      ]
    },
    {
      "cell_type": "markdown",
      "metadata": {
        "id": "4hxJCn2npn_9"
      },
      "source": [
        "1) Faça uma função que recebe um valor inteiro n e que imprima a seguinte saída:\n",
        "  \n",
        "    1\n",
        "  \n",
        "    2   2\n",
        "  \n",
        "    3   3   3\n",
        "  \n",
        "    .....\n",
        "  \n",
        "    n   n   n   n   n   n  ... n"
      ]
    },
    {
      "cell_type": "code",
      "source": [
        "def triangulo_num():\n",
        "  valor = int(input(\"Insira um valor inteiro: \"))\n",
        "  for i in range(valor):\n",
        "   print(f\"{i+1}  \"*(i+1), \"\\n\")"
      ],
      "metadata": {
        "id": "4R-USH2AwBtI"
      },
      "execution_count": 16,
      "outputs": []
    },
    {
      "cell_type": "code",
      "source": [
        "triangulo_num()"
      ],
      "metadata": {
        "colab": {
          "base_uri": "https://localhost:8080/"
        },
        "id": "B6HgWcHHwPqv",
        "outputId": "b5aae8e3-3fc5-40ae-9f3b-2c06155bcb3c"
      },
      "execution_count": null,
      "outputs": [
        {
          "output_type": "stream",
          "name": "stdout",
          "text": [
            "Insira um valor inteiro: 5\n",
            "1   \n",
            "\n",
            "2  2   \n",
            "\n",
            "3  3  3   \n",
            "\n",
            "4  4  4  4   \n",
            "\n",
            "5  5  5  5  5   \n",
            "\n"
          ]
        }
      ]
    },
    {
      "cell_type": "markdown",
      "metadata": {
        "id": "DO9yCJVWp5g8"
      },
      "source": [
        "2) Faça uma função que recebe um valor n e que imprima a seguinte saída:\n",
        "  \n",
        "  1\n",
        "  \n",
        "  1   2\n",
        "  \n",
        "  1   2   3\n",
        "  \n",
        "  .....\n",
        "  \n",
        "  1   2   3   ...  n"
      ]
    },
    {
      "cell_type": "code",
      "metadata": {
        "id": "Bm4Gx1D2YVzq"
      },
      "source": [
        "def piramide_sequencial():\n",
        "  valor2 = int(input(\"Insira um valor inteiro: \"))\n",
        "  if type(valor2) == int:\n",
        "    for i in range(valor2):\n",
        "      for j in range(i+1):\n",
        "        print(f\"{j+1}\", end = \" \")\n",
        "      print(\"\\n\")\n",
        "  else:\n",
        "    print(\"Digite um número inteiro \")"
      ],
      "execution_count": null,
      "outputs": []
    },
    {
      "cell_type": "code",
      "source": [
        "piramide_sequencial()"
      ],
      "metadata": {
        "colab": {
          "base_uri": "https://localhost:8080/"
        },
        "id": "1QyuQ560kPtr",
        "outputId": "27019707-e694-4d83-f7a7-d256636e137c"
      },
      "execution_count": null,
      "outputs": [
        {
          "output_type": "stream",
          "name": "stdout",
          "text": [
            "Insira um valor inteiro: 5\n",
            "1 \n",
            "\n",
            "1 2 \n",
            "\n",
            "1 2 3 \n",
            "\n",
            "1 2 3 4 \n",
            "\n",
            "1 2 3 4 5 \n",
            "\n"
          ]
        }
      ]
    },
    {
      "cell_type": "markdown",
      "metadata": {
        "id": "hmc5JPO1qYUx"
      },
      "source": [
        "3) Faça uma função que retorne o reverso de um número inteiro passado por parâmetro. Por exemplo: 127 -> 721."
      ]
    },
    {
      "cell_type": "code",
      "metadata": {
        "id": "oSZ-PXetXKIO"
      },
      "source": [
        "def num_inverso(num_inteiro):\n",
        "  if type(num_inteiro) == int:\n",
        "    num_txt = str(num_inteiro)\n",
        "    print(num_txt[::-1])\n",
        "  else:\n",
        "    print(\"Digite um número inteiro \")"
      ],
      "execution_count": null,
      "outputs": []
    },
    {
      "cell_type": "code",
      "source": [
        "num_inverso(1258)"
      ],
      "metadata": {
        "colab": {
          "base_uri": "https://localhost:8080/"
        },
        "id": "DgYrA8LWlC22",
        "outputId": "56d5f190-34ca-4a92-b011-f0cade5eccfc"
      },
      "execution_count": null,
      "outputs": [
        {
          "output_type": "stream",
          "name": "stdout",
          "text": [
            "8521\n"
          ]
        }
      ]
    },
    {
      "cell_type": "markdown",
      "metadata": {
        "id": "uQ33uFc13VDM"
      },
      "source": [
        "4) Faça uma função que receba dois vetores com 10 elementos cada. Sua função deverá retornar um terceiro vetor de 20 elementos, cujos valores deverão ser compostos pelos elementos intercalados dos dois outros vetores."
      ]
    },
    {
      "cell_type": "code",
      "source": [
        "def vetores_intercalados():\n",
        "  vetor1 = eval('[' + input(\"Digite o vetor 1: \") + ']')\n",
        "  vetor2 = eval('[' + input(\"Digite o vetor 2: \") + ']')\n",
        "  vetores = []\n",
        "  if len(vetor1) <= 10 and len(vetor2) <= 10:\n",
        "    i = 0\n",
        "    while len(vetores)<20:\n",
        "      vetores.append(vetor1[i])\n",
        "      vetores.append(vetor2[i])\n",
        "      i=i+1\n",
        "    print(vetores)\n",
        "  else:\n",
        "    print(\"Os vetores devem ter apenas 10 elementos\")"
      ],
      "metadata": {
        "id": "sUWusN-iy0Qx"
      },
      "execution_count": null,
      "outputs": []
    },
    {
      "cell_type": "code",
      "source": [
        "vetores_intercalados()"
      ],
      "metadata": {
        "colab": {
          "base_uri": "https://localhost:8080/"
        },
        "id": "WBOYVLRhzUr4",
        "outputId": "a0fe143e-1cd1-49df-f3c9-bbdd0f4139e6"
      },
      "execution_count": null,
      "outputs": [
        {
          "output_type": "stream",
          "name": "stdout",
          "text": [
            "Digite o vetor 1: 1,2,3,4,5,6,7,8,9,10\n",
            "Digite o vetor 2: 10,9,8,7,4,5,6,1,2,3\n",
            "1° vetor:  [1, 2, 3, 4, 5, 6, 7, 8, 9, 10]\n",
            "2° vetor:  [10, 9, 8, 7, 4, 5, 6, 1, 2, 3]\n",
            "[1, 10, 2, 9, 3, 8, 4, 7, 5, 4, 6, 5, 7, 6, 8, 1, 9, 2, 10, 3]\n"
          ]
        }
      ]
    },
    {
      "cell_type": "markdown",
      "metadata": {
        "id": "2yUbDPrX3VDN"
      },
      "source": [
        "5) Faça uma função que receba uma string e retorne a quantidade de consoantes que existem nela."
      ]
    },
    {
      "cell_type": "code",
      "metadata": {
        "id": "dgwb8JlMxKKy"
      },
      "source": [
        "def conta_consoantes():\n",
        "  texto = input(\"Digite o seu texto: \")\n",
        "  texto = texto.lower()\n",
        "  texto_novo = filter(str.isalnum, texto)\n",
        "\n",
        "  vogais_tupla = (\"a\",\"e\",\"i\",\"o\",\"u\")\n",
        "  vogais = 0\n",
        "  consoantes = 0  \n",
        "  for caracter in texto_novo:\n",
        "    if caracter not in vogais_tupla:\n",
        "      consoantes = consoantes + 1\n",
        "  print(\"Consoantes: %d\" %consoantes)"
      ],
      "execution_count": null,
      "outputs": []
    },
    {
      "cell_type": "code",
      "source": [
        "conta_consoantes()"
      ],
      "metadata": {
        "colab": {
          "base_uri": "https://localhost:8080/"
        },
        "id": "wIMmzm2kaNga",
        "outputId": "3dd36601-3a4c-4678-89b0-ca75d18ad235"
      },
      "execution_count": null,
      "outputs": [
        {
          "output_type": "stream",
          "name": "stdout",
          "text": [
            "Digite o seu texto: gshaoha ihihph hi hi h\n",
            "Consoantes: 11\n"
          ]
        }
      ]
    },
    {
      "cell_type": "markdown",
      "metadata": {
        "id": "iQbnwKnO3VDO"
      },
      "source": [
        "6) Altere o exercício 5 para que o retorno seja um dicionário, onde a chave é uma consoante e o valor é a quantidade de vezes que esta consoante aparece na string"
      ]
    },
    {
      "cell_type": "code",
      "metadata": {
        "id": "J0jx8yfB3VDO"
      },
      "source": [
        "def dict_conta_consoantes():\n",
        "  texto = input(\"Digite o seu texto: \")\n",
        "  texto = texto.lower()\n",
        "  texto_novo = filter(str.isalnum, texto)\n",
        "  vogais_tupla = (\"a\",\"e\",\"i\",\"o\",\"u\")\n",
        "  consoantes = {} \n",
        "  for caracter in texto_novo:\n",
        "    if caracter not in vogais_tupla:\n",
        "      consoantes[caracter] = texto.count(caracter)\n",
        "  print(consoantes)"
      ],
      "execution_count": null,
      "outputs": []
    },
    {
      "cell_type": "code",
      "source": [
        "dict_conta_consoantes()"
      ],
      "metadata": {
        "colab": {
          "base_uri": "https://localhost:8080/"
        },
        "id": "QU_mtzqmaJYI",
        "outputId": "0e1e52eb-e84c-451d-c67a-8848257ad472"
      },
      "execution_count": null,
      "outputs": [
        {
          "output_type": "stream",
          "name": "stdout",
          "text": [
            "Digite o seu texto: fffff llllll ttttt yyyyy\n",
            "{'f': 5, 'l': 6, 't': 5, 'y': 5}\n"
          ]
        }
      ]
    },
    {
      "cell_type": "markdown",
      "source": [
        "7) Crie uma funcao que receba um vetor e calcule a mediana (Sem usar numpy)"
      ],
      "metadata": {
        "id": "zy6CzdLxeJ09"
      }
    },
    {
      "cell_type": "code",
      "source": [
        "def mediana():\n",
        "  vetor = eval('[' + input(\"Digite o vetor: \") + ']')\n",
        "  n = len(vetor)\n",
        "  vetor.sort()\n",
        "  \n",
        "  if n % 2 == 0:\n",
        "    mediana1 = vetor[n//2]\n",
        "    mediana2 = vetor[n//2 - 1]\n",
        "    mediana = (mediana1 + mediana2)/2\n",
        "  else:\n",
        "    mediana = vetor[n//2]\n",
        "  print(\"A mediana é: \", mediana)"
      ],
      "metadata": {
        "id": "BFhyEiHEeTn6"
      },
      "execution_count": null,
      "outputs": []
    },
    {
      "cell_type": "code",
      "source": [
        "mediana()"
      ],
      "metadata": {
        "colab": {
          "base_uri": "https://localhost:8080/"
        },
        "id": "r0yk06tPVbWE",
        "outputId": "23823e51-1a42-421e-f443-a811a2670d50"
      },
      "execution_count": null,
      "outputs": [
        {
          "output_type": "stream",
          "name": "stdout",
          "text": [
            "Digite o vetor: 1,2,5,8,7,45,6\n",
            "A mediana é:  6\n"
          ]
        }
      ]
    },
    {
      "cell_type": "markdown",
      "source": [
        "8) Faça novamente o exercicio 9 da ultima lista usando funções. Crie uma funcao temperatura que deverá ler o número e chamar uma das seguintes funções: converter_C_para_F() ou converter_F_para_C()."
      ],
      "metadata": {
        "id": "bV2SEcFrmJ1z"
      }
    },
    {
      "cell_type": "code",
      "source": [
        "def converter_F_para_C(temp):\n",
        "  C = (temp - 32) * (5/9)\n",
        "  print(\"a temperatura é: \", C , \"°C\")\n",
        "\n",
        "def converter_C_para_F(temp):\n",
        "  F = (temp * 9/5) + 32\n",
        "  print(\"a temperatura é: \", F , \"°F\")\n",
        "\n",
        "def temperatura():\n",
        "  temperatura = input(\"informe a temperatura: \")\n",
        "  temperatura = temperatura.upper()\n",
        "  temp = float(temperatura[:-1])\n",
        "  if \"F\" in temperatura:\n",
        "    converter_F_para_C(temp)\n",
        "  elif \"C\" in temperatura:\n",
        "    converter_C_para_F(temp)\n",
        "  else:\n",
        "    print(\"A temperatura não pode ser calculada pois a unidade informada não é valida\")"
      ],
      "metadata": {
        "id": "DHsm8DT0mI3J"
      },
      "execution_count": null,
      "outputs": []
    },
    {
      "cell_type": "code",
      "source": [
        "temperatura()"
      ],
      "metadata": {
        "colab": {
          "base_uri": "https://localhost:8080/"
        },
        "id": "EJnj6z4pEOX-",
        "outputId": "79f728c0-ed99-4499-b564-c4901ca62911"
      },
      "execution_count": null,
      "outputs": [
        {
          "output_type": "stream",
          "name": "stdout",
          "text": [
            "informe a temperatura: 95 f\n",
            "a temperatura é:  35.0 °C\n"
          ]
        }
      ]
    }
  ]
}